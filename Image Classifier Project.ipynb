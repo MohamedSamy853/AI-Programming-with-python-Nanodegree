{
 "cells": [
  {
   "cell_type": "markdown",
   "metadata": {},
   "source": [
    "# Developing an AI application\n",
    "\n",
    "Going forward, AI algorithms will be incorporated into more and more everyday applications. For example, you might want to include an image classifier in a smart phone app. To do this, you'd use a deep learning model trained on hundreds of thousands of images as part of the overall application architecture. A large part of software development in the future will be using these types of models as common parts of applications. \n",
    "\n",
    "In this project, you'll train an image classifier to recognize different species of flowers. You can imagine using something like this in a phone app that tells you the name of the flower your camera is looking at. In practice you'd train this classifier, then export it for use in your application. We'll be using [this dataset](http://www.robots.ox.ac.uk/~vgg/data/flowers/102/index.html) of 102 flower categories, you can see a few examples below. \n",
    "\n",
    "<img src='assets/Flowers.png' width=500px>\n",
    "\n",
    "The project is broken down into multiple steps:\n",
    "\n",
    "* Load and preprocess the image dataset\n",
    "* Train the image classifier on your dataset\n",
    "* Use the trained classifier to predict image content\n",
    "\n",
    "We'll lead you through each part which you'll implement in Python.\n",
    "\n",
    "When you've completed this project, you'll have an application that can be trained on any set of labeled images. Here your network will be learning about flowers and end up as a command line application. But, what you do with your new skills depends on your imagination and effort in building a dataset. For example, imagine an app where you take a picture of a car, it tells you what the make and model is, then looks up information about it. Go build your own dataset and make something new.\n",
    "\n",
    "First up is importing the packages you'll need. It's good practice to keep all the imports at the beginning of your code. As you work through this notebook and find you need to import a package, make sure to add the import up here."
   ]
  },
  {
   "cell_type": "code",
   "execution_count": 27,
   "metadata": {},
   "outputs": [
    {
     "name": "stdout",
     "output_type": "stream",
     "text": [
      "Requirement already up-to-date: torch in /opt/conda/lib/python3.6/site-packages (1.10.2)\r\n",
      "Requirement already satisfied, skipping upgrade: dataclasses; python_version < \"3.7\" in /opt/conda/lib/python3.6/site-packages (from torch) (0.8)\r\n",
      "Requirement already satisfied, skipping upgrade: typing-extensions in /opt/conda/lib/python3.6/site-packages (from torch) (4.1.1)\r\n"
     ]
    }
   ],
   "source": [
    "!pip install --upgrade torch"
   ]
  },
  {
   "cell_type": "code",
   "execution_count": 28,
   "metadata": {},
   "outputs": [
    {
     "name": "stdout",
     "output_type": "stream",
     "text": [
      "Collecting torchvision\n",
      "  Using cached https://files.pythonhosted.org/packages/38/03/c963ecdf98fae15286437ae533750e2c39e988b7d8c86fad4dbc73a3a146/torchvision-0.11.2-cp36-cp36m-manylinux1_x86_64.whl\n",
      "Collecting torch==1.10.1 (from torchvision)\n",
      "  Using cached https://files.pythonhosted.org/packages/9a/f5/b76d021f06e50f770d3f6c1a1b50b62a69e587b1f0db7248269c4be21206/torch-1.10.1-cp36-cp36m-manylinux1_x86_64.whl\n",
      "Requirement already satisfied, skipping upgrade: numpy in /opt/conda/lib/python3.6/site-packages (from torchvision) (1.12.1)\n",
      "Requirement already satisfied, skipping upgrade: pillow!=8.3.0,>=5.3.0 in /opt/conda/lib/python3.6/site-packages (from torchvision) (8.4.0)\n",
      "Requirement already satisfied, skipping upgrade: typing-extensions in /opt/conda/lib/python3.6/site-packages (from torch==1.10.1->torchvision) (4.1.1)\n",
      "Requirement already satisfied, skipping upgrade: dataclasses; python_version < \"3.7\" in /opt/conda/lib/python3.6/site-packages (from torch==1.10.1->torchvision) (0.8)\n",
      "Installing collected packages: torch, torchvision\n",
      "  Found existing installation: torch 1.10.2\n",
      "    Uninstalling torch-1.10.2:\n",
      "      Successfully uninstalled torch-1.10.2\n",
      "  Found existing installation: torchvision 0.2.1\n",
      "\u001b[31mCannot remove entries from nonexistent file /opt/conda/lib/python3.6/site-packages/easy-install.pth\u001b[0m\n"
     ]
    }
   ],
   "source": [
    "!pip install --upgrade torchvision"
   ]
  },
  {
   "cell_type": "code",
   "execution_count": 29,
   "metadata": {},
   "outputs": [
    {
     "name": "stdout",
     "output_type": "stream",
     "text": [
      "Requirement already up-to-date: tqdm in /opt/conda/lib/python3.6/site-packages (4.64.1)\n",
      "Requirement already satisfied, skipping upgrade: importlib-resources; python_version < \"3.7\" in /opt/conda/lib/python3.6/site-packages (from tqdm) (5.4.0)\n",
      "Requirement already satisfied, skipping upgrade: zipp>=3.1.0; python_version < \"3.10\" in /opt/conda/lib/python3.6/site-packages (from importlib-resources; python_version < \"3.7\"->tqdm) (3.6.0)\n"
     ]
    }
   ],
   "source": [
    "!pip install --upgrade tqdm"
   ]
  },
  {
   "cell_type": "code",
   "execution_count": 1,
   "metadata": {},
   "outputs": [],
   "source": [
    "# Imports here\n",
    "import numpy as np\n",
    "import pandas as pd\n",
    "import matplotlib.pyplot as plt , os \n",
    "import torch\n",
    "import torchvision\n",
    "from urllib.request import urlretrieve\n",
    "import zipfile , tarfile , shutil\n",
    "%matplotlib inline"
   ]
  },
  {
   "cell_type": "code",
   "execution_count": 2,
   "metadata": {},
   "outputs": [
    {
     "data": {
      "text/plain": [
       "('1.10.1+cu102', '0.2.1')"
      ]
     },
     "execution_count": 2,
     "metadata": {},
     "output_type": "execute_result"
    }
   ],
   "source": [
    "torch.__version__ , torchvision.__version__"
   ]
  },
  {
   "cell_type": "markdown",
   "metadata": {},
   "source": [
    "## Load the data\n",
    "\n",
    "Here you'll use `torchvision` to load the data ([documentation](http://pytorch.org/docs/0.3.0/torchvision/index.html)). The data should be included alongside this notebook, otherwise you can [download it here](https://s3.amazonaws.com/content.udacity-data.com/nd089/flower_data.tar.gz). The dataset is split into three parts, training, validation, and testing. For the training, you'll want to apply transformations such as random scaling, cropping, and flipping. This will help the network generalize leading to better performance. You'll also need to make sure the input data is resized to 224x224 pixels as required by the pre-trained networks.\n",
    "\n",
    "The validation and testing sets are used to measure the model's performance on data it hasn't seen yet. For this you don't want any scaling or rotation transformations, but you'll need to resize then crop the images to the appropriate size.\n",
    "\n",
    "The pre-trained networks you'll use were trained on the ImageNet dataset where each color channel was normalized separately. For all three sets you'll need to normalize the means and standard deviations of the images to what the network expects. For the means, it's `[0.485, 0.456, 0.406]` and for the standard deviations `[0.229, 0.224, 0.225]`, calculated from the ImageNet images.  These values will shift each color channel to be centered at 0 and range from -1 to 1.\n",
    " "
   ]
  },
  {
   "cell_type": "code",
   "execution_count": 3,
   "metadata": {},
   "outputs": [
    {
     "data": {
      "text/plain": [
       "('flower_data.tar.gz', <http.client.HTTPMessage at 0x7f6a9bca2fd0>)"
      ]
     },
     "execution_count": 3,
     "metadata": {},
     "output_type": "execute_result"
    }
   ],
   "source": [
    "url = \"https://s3.amazonaws.com/content.udacity-data.com/nd089/flower_data.tar.gz\"\n",
    "urlretrieve(url , \"flower_data.tar.gz\")"
   ]
  },
  {
   "cell_type": "code",
   "execution_count": 4,
   "metadata": {},
   "outputs": [
    {
     "data": {
      "text/plain": [
       "['cat_to_name.json',\n",
       " 'predict.py',\n",
       " 'Image Classifier Project.ipynb',\n",
       " 'test',\n",
       " 'train',\n",
       " 'assets',\n",
       " 'LICENSE',\n",
       " '.ipynb_checkpoints',\n",
       " 'README.md',\n",
       " 'valid',\n",
       " 'train.py',\n",
       " 'Image Classifier Project-zh.ipynb',\n",
       " 'flowers',\n",
       " 'flower_data.tar.gz',\n",
       " 'workspace-utils.py',\n",
       " '.gitignore']"
      ]
     },
     "execution_count": 4,
     "metadata": {},
     "output_type": "execute_result"
    }
   ],
   "source": [
    "os.listdir()"
   ]
  },
  {
   "cell_type": "code",
   "execution_count": 4,
   "metadata": {},
   "outputs": [],
   "source": [
    "with tarfile.open(\"flower_data.tar.gz\",  ) as file:\n",
    "    file.extractall()"
   ]
  },
  {
   "cell_type": "code",
   "execution_count": 5,
   "metadata": {},
   "outputs": [
    {
     "data": {
      "text/plain": [
       "['cat_to_name.json',\n",
       " 'predict.py',\n",
       " 'Image Classifier Project.ipynb',\n",
       " 'test',\n",
       " 'train',\n",
       " 'assets',\n",
       " 'LICENSE',\n",
       " '.ipynb_checkpoints',\n",
       " 'README.md',\n",
       " 'valid',\n",
       " 'train.py',\n",
       " 'Image Classifier Project-zh.ipynb',\n",
       " 'flowers',\n",
       " 'flower_data.tar.gz',\n",
       " 'workspace-utils.py',\n",
       " '.gitignore']"
      ]
     },
     "execution_count": 5,
     "metadata": {},
     "output_type": "execute_result"
    }
   ],
   "source": [
    "os.listdir()"
   ]
  },
  {
   "cell_type": "code",
   "execution_count": 17,
   "metadata": {},
   "outputs": [],
   "source": [
    "#for src in ['train' , 'test' , 'valid'] :\n",
    "#    shutil.move(src , \"./flowers\" )"
   ]
  },
  {
   "cell_type": "code",
   "execution_count": null,
   "metadata": {},
   "outputs": [],
   "source": [
    "#the data ia already here so we won't need to download it "
   ]
  },
  {
   "cell_type": "code",
   "execution_count": 3,
   "metadata": {},
   "outputs": [],
   "source": [
    "data_dir = 'flowers'\n",
    "train_dir = data_dir + '/train'\n",
    "valid_dir = data_dir + '/valid'\n",
    "test_dir = data_dir + '/test'"
   ]
  },
  {
   "cell_type": "code",
   "execution_count": 4,
   "metadata": {},
   "outputs": [
    {
     "name": "stdout",
     "output_type": "stream",
     "text": [
      "cuda\n"
     ]
    }
   ],
   "source": [
    "# TODO: Define your transforms for the training, validation, and testing sets\n",
    "device = \"cuda\" if torch.cuda.is_available() else \"cpu\"\n",
    "print(device)\n",
    "sized_image = [224 ,224]\n",
    "data_transforms = torchvision.transforms.Compose([\n",
    "                                                  torchvision.transforms.RandomRotation(30),\n",
    "                                                  torchvision.transforms.RandomResizedCrop(224),\n",
    "                                                  torchvision.transforms.RandomHorizontalFlip(p=0.5),\n",
    "                                                  torchvision.transforms.Resize(sized_image),\n",
    "                                                  torchvision.transforms.ToTensor(),\n",
    "                                                  torchvision.transforms.Normalize(mean=[0.485, 0.456, 0.406],\n",
    "                                                                                 std =[0.229, 0.224, 0.225]),\n",
    "                                                    ])\n",
    "\n",
    "# TODO: Load the datasets with ImageFolder\n",
    "image_datasets = torchvision.datasets.ImageFolder(train_dir , transform=data_transforms)\n",
    "\n",
    "# TODO: Using the image datasets and the trainforms, define the dataloaders\n",
    "dataloaders = torch.utils.data.DataLoader(image_datasets , batch_size=32 , shuffle=True)"
   ]
  },
  {
   "cell_type": "code",
   "execution_count": 5,
   "metadata": {},
   "outputs": [
    {
     "name": "stdout",
     "output_type": "stream",
     "text": [
      "torch.Size([32, 3, 224, 224])\n",
      "torch.Size([32])\n"
     ]
    }
   ],
   "source": [
    "for x , y in dataloaders:\n",
    "    print(x.shape)\n",
    "    print(y.shape)\n",
    "    break"
   ]
  },
  {
   "cell_type": "markdown",
   "metadata": {},
   "source": [
    "### Label mapping\n",
    "\n",
    "You'll also need to load in a mapping from category label to category name. You can find this in the file `cat_to_name.json`. It's a JSON object which you can read in with the [`json` module](https://docs.python.org/2/library/json.html). This will give you a dictionary mapping the integer encoded categories to the actual names of the flowers."
   ]
  },
  {
   "cell_type": "code",
   "execution_count": 6,
   "metadata": {},
   "outputs": [],
   "source": [
    "import json\n",
    "\n",
    "with open('cat_to_name.json', 'r') as f:\n",
    "    cat_to_name = json.load(f)"
   ]
  },
  {
   "cell_type": "code",
   "execution_count": 7,
   "metadata": {},
   "outputs": [
    {
     "data": {
      "text/plain": [
       "{'21': 'fire lily',\n",
       " '3': 'canterbury bells',\n",
       " '45': 'bolero deep blue',\n",
       " '1': 'pink primrose',\n",
       " '34': 'mexican aster',\n",
       " '27': 'prince of wales feathers',\n",
       " '7': 'moon orchid',\n",
       " '16': 'globe-flower',\n",
       " '25': 'grape hyacinth',\n",
       " '26': 'corn poppy',\n",
       " '79': 'toad lily',\n",
       " '39': 'siam tulip',\n",
       " '24': 'red ginger',\n",
       " '67': 'spring crocus',\n",
       " '35': 'alpine sea holly',\n",
       " '32': 'garden phlox',\n",
       " '10': 'globe thistle',\n",
       " '6': 'tiger lily',\n",
       " '93': 'ball moss',\n",
       " '33': 'love in the mist',\n",
       " '9': 'monkshood',\n",
       " '102': 'blackberry lily',\n",
       " '14': 'spear thistle',\n",
       " '19': 'balloon flower',\n",
       " '100': 'blanket flower',\n",
       " '13': 'king protea',\n",
       " '49': 'oxeye daisy',\n",
       " '15': 'yellow iris',\n",
       " '61': 'cautleya spicata',\n",
       " '31': 'carnation',\n",
       " '64': 'silverbush',\n",
       " '68': 'bearded iris',\n",
       " '63': 'black-eyed susan',\n",
       " '69': 'windflower',\n",
       " '62': 'japanese anemone',\n",
       " '20': 'giant white arum lily',\n",
       " '38': 'great masterwort',\n",
       " '4': 'sweet pea',\n",
       " '86': 'tree mallow',\n",
       " '101': 'trumpet creeper',\n",
       " '42': 'daffodil',\n",
       " '22': 'pincushion flower',\n",
       " '2': 'hard-leaved pocket orchid',\n",
       " '54': 'sunflower',\n",
       " '66': 'osteospermum',\n",
       " '70': 'tree poppy',\n",
       " '85': 'desert-rose',\n",
       " '99': 'bromelia',\n",
       " '87': 'magnolia',\n",
       " '5': 'english marigold',\n",
       " '92': 'bee balm',\n",
       " '28': 'stemless gentian',\n",
       " '97': 'mallow',\n",
       " '57': 'gaura',\n",
       " '40': 'lenten rose',\n",
       " '47': 'marigold',\n",
       " '59': 'orange dahlia',\n",
       " '48': 'buttercup',\n",
       " '55': 'pelargonium',\n",
       " '36': 'ruby-lipped cattleya',\n",
       " '91': 'hippeastrum',\n",
       " '29': 'artichoke',\n",
       " '71': 'gazania',\n",
       " '90': 'canna lily',\n",
       " '18': 'peruvian lily',\n",
       " '98': 'mexican petunia',\n",
       " '8': 'bird of paradise',\n",
       " '30': 'sweet william',\n",
       " '17': 'purple coneflower',\n",
       " '52': 'wild pansy',\n",
       " '84': 'columbine',\n",
       " '12': \"colt's foot\",\n",
       " '11': 'snapdragon',\n",
       " '96': 'camellia',\n",
       " '23': 'fritillary',\n",
       " '50': 'common dandelion',\n",
       " '44': 'poinsettia',\n",
       " '53': 'primula',\n",
       " '72': 'azalea',\n",
       " '65': 'californian poppy',\n",
       " '80': 'anthurium',\n",
       " '76': 'morning glory',\n",
       " '37': 'cape flower',\n",
       " '56': 'bishop of llandaff',\n",
       " '60': 'pink-yellow dahlia',\n",
       " '82': 'clematis',\n",
       " '58': 'geranium',\n",
       " '75': 'thorn apple',\n",
       " '41': 'barbeton daisy',\n",
       " '95': 'bougainvillea',\n",
       " '43': 'sword lily',\n",
       " '83': 'hibiscus',\n",
       " '78': 'lotus lotus',\n",
       " '88': 'cyclamen',\n",
       " '94': 'foxglove',\n",
       " '81': 'frangipani',\n",
       " '74': 'rose',\n",
       " '89': 'watercress',\n",
       " '73': 'water lily',\n",
       " '46': 'wallflower',\n",
       " '77': 'passion flower',\n",
       " '51': 'petunia'}"
      ]
     },
     "execution_count": 7,
     "metadata": {},
     "output_type": "execute_result"
    }
   ],
   "source": [
    "cat_to_name"
   ]
  },
  {
   "cell_type": "code",
   "execution_count": 8,
   "metadata": {},
   "outputs": [],
   "source": [
    "classes = sorted(list(map(int , list(cat_to_name.keys()))))\n",
    "assert sum(list(range(1 , 103))) == sum(classes)"
   ]
  },
  {
   "cell_type": "code",
   "execution_count": null,
   "metadata": {},
   "outputs": [],
   "source": []
  },
  {
   "cell_type": "markdown",
   "metadata": {},
   "source": [
    "# Building and training the classifier\n",
    "\n",
    "Now that the data is ready, it's time to build and train the classifier. As usual, you should use one of the pretrained models from `torchvision.models` to get the image features. Build and train a new feed-forward classifier using those features.\n",
    "\n",
    "We're going to leave this part up to you. Refer to [the rubric](https://review.udacity.com/#!/rubrics/1663/view) for guidance on successfully completing this section. Things you'll need to do:\n",
    "\n",
    "* Load a [pre-trained network](http://pytorch.org/docs/master/torchvision/models.html) (If you need a starting point, the VGG networks work great and are straightforward to use)\n",
    "* Define a new, untrained feed-forward network as a classifier, using ReLU activations and dropout\n",
    "* Train the classifier layers using backpropagation using the pre-trained network to get the features\n",
    "* Track the loss and accuracy on the validation set to determine the best hyperparameters\n",
    "\n",
    "We've left a cell open for you below, but use as many as you need. Our advice is to break the problem up into smaller parts you can run separately. Check that each part is doing what you expect, then move on to the next. You'll likely find that as you work through each part, you'll need to go back and modify your previous code. This is totally normal!\n",
    "\n",
    "When training make sure you're updating only the weights of the feed-forward network. You should be able to get the validation accuracy above 70% if you build everything right. Make sure to try different hyperparameters (learning rate, units in the classifier, epochs, etc) to find the best model. Save those hyperparameters to use as default values in the next part of the project.\n",
    "\n",
    "One last important tip if you're using the workspace to run your code: To avoid having your workspace disconnect during the long-running tasks in this notebook, please read in the earlier page in this lesson called Intro to\n",
    "GPU Workspaces about Keeping Your Session Active. You'll want to include code from the workspace_utils.py module.\n",
    "\n",
    "<font color='red'>**Note for Workspace users:** If your network is over 1 GB when saved as a checkpoint, there might be issues with saving backups in your workspace. Typically this happens with wide dense layers after the convolutional layers. If your saved checkpoint is larger than 1 GB (you can open a terminal and check with `ls -lh`), you should reduce the size of your hidden layers and train again.</font>"
   ]
  },
  {
   "cell_type": "code",
   "execution_count": 9,
   "metadata": {},
   "outputs": [],
   "source": [
    "try :\n",
    "    import torchsummary\n",
    "except ModuleNotFoundError:\n",
    "    !pip install torchsummary\n",
    "finally :\n",
    "    import torchsummary"
   ]
  },
  {
   "cell_type": "code",
   "execution_count": null,
   "metadata": {},
   "outputs": [],
   "source": []
  },
  {
   "cell_type": "code",
   "execution_count": 10,
   "metadata": {},
   "outputs": [],
   "source": [
    "# TODO: Build and train your network\n",
    "model = torchvision.models.vgg16(pretrained=True).to(device)\n",
    "for param in model.parameters():\n",
    "    param.require_grad =False\n",
    "model.avgpool = torch.nn.AdaptiveAvgPool2d(output_size=(1,1)).to(device)\n",
    "model.classifier = torch.nn.Sequential(torch.nn.Flatten(),\n",
    "                                      torch.nn.Linear(25088 ,512),\n",
    "                                      torch.nn.ReLU(),\n",
    "                                      torch.nn.Dropout(0.2),\n",
    "                                      torch.nn.Linear(512 , 128),\n",
    "                                      torch.nn.ReLU(),\n",
    "                                      torch.nn.Dropout(0.2),\n",
    "                                      torch.nn.Linear(128 , len(cat_to_name))).to(device)"
   ]
  },
  {
   "cell_type": "code",
   "execution_count": 11,
   "metadata": {},
   "outputs": [
    {
     "name": "stdout",
     "output_type": "stream",
     "text": [
      "torch.Size([32, 102])\n"
     ]
    }
   ],
   "source": [
    "for x , _ in dataloaders:\n",
    "    print(model(x.float().to(device)).shape)\n",
    "    break"
   ]
  },
  {
   "cell_type": "code",
   "execution_count": null,
   "metadata": {},
   "outputs": [],
   "source": []
  },
  {
   "cell_type": "code",
   "execution_count": 12,
   "metadata": {},
   "outputs": [],
   "source": [
    "loss_fn = torch.nn.CrossEntropyLoss()\n",
    "optimizer = torch.optim.Adam(model.classifier.parameters(), lr=0.001)\n",
    "@torch.no_grad()\n",
    "def accuracy(model , x_batch , y_batch):\n",
    "    model.eval()\n",
    "    y_pred = model(x_batch.to(device))\n",
    "    _ , y_pred = y_pred.max(-1)\n",
    "    correct = y_pred == y_batch\n",
    "    return correct.cpu().numpy().mean()\n",
    "def calc_loss(model , loss_fn , x_batch , y_batch):\n",
    "    model.eval()\n",
    "    y_pred = model(x_batch.to(device))\n",
    "    loss = loss_fn(y_pred , y_batch)\n",
    "    return loss.item()\n",
    "def train(model , train_loader , test_loader , loss_fn , optimizer , epochs):\n",
    "    train_loesse , validation_losses =[] , []\n",
    "    train_accuracies , validation_accuracuies = [] , []\n",
    "    for e in range(epochs):\n",
    "        \n",
    "        train_loss_epoch , validation_loss_epoch =[] , []\n",
    "        train_acc_epoch , validation_acc_epoch =[] , []\n",
    "        for x_batch , y_batch in train_loader:\n",
    "            model.train()\n",
    "            y_pred = model(x_batch.float().to(device))\n",
    "            loss = loss_fn(y_pred.to(device) , y_batch.to(device))\n",
    "            loss.backward()\n",
    "            optimizer.step()\n",
    "            optimizer.zero_grad()\n",
    "            train_loss_epoch.append(loss.item())\n",
    "            train_acc = accuracy(model , x_batch.float().to(device) , y_batch.to(device))\n",
    "            train_acc_epoch.append(train_acc)\n",
    "            \n",
    "        for x_batch , y_batch in test_loader:\n",
    "            valid_loss = calc_loss(model , loss_fn , x_batch.float().to(device) , y_batch.to(device))\n",
    "            valid_acc =  accuracy(model , x_batch.to(device) , y_batch.to(device))\n",
    "            validation_loss_epoch.append(valid_loss)\n",
    "            validation_acc_epoch.append(valid_acc)\n",
    "        train_loesse.append(np.array(train_loss_epoch).mean())\n",
    "        train_accuracies.append(np.array(train_acc_epoch).mean())\n",
    "        validation_losses.append(np.array(validation_loss_epoch).mean())\n",
    "        validation_accuracuies.append(np.array(validation_acc_epoch).mean())\n",
    "        print(f\"Epoch {e+1} train loss : {train_loesse[-1]} train Acc : {train_accuracies[-1]} valid loss {validation_losses[-1]} valid Acc {validation_accuracuies[-1]}\")\n",
    "    return train_loesse , train_accuracies , validation_losses , validation_accuracuies\n",
    "            \n",
    "            \n",
    "\n",
    "    "
   ]
  },
  {
   "cell_type": "code",
   "execution_count": null,
   "metadata": {},
   "outputs": [],
   "source": []
  },
  {
   "cell_type": "code",
   "execution_count": 13,
   "metadata": {},
   "outputs": [],
   "source": [
    "#build validation loader \n",
    "valid_set= torchvision.datasets.ImageFolder(valid_dir , transform=data_transforms)\n",
    "valid_loader = torch.utils.data.DataLoader(valid_set , batch_size=64 )"
   ]
  },
  {
   "cell_type": "code",
   "execution_count": 14,
   "metadata": {},
   "outputs": [
    {
     "name": "stdout",
     "output_type": "stream",
     "text": [
      "Epoch 1 train loss : 3.2288540055112143 train Acc : 0.40863821138211387 valid loss 1.8612163800459642 valid Acc 0.5158653846153846\n",
      "Epoch 2 train loss : 1.8290768611721877 train Acc : 0.7026930894308943 valid loss 1.2882514802309184 valid Acc 0.6459615384615385\n",
      "Epoch 3 train loss : 1.4608138221066171 train Acc : 0.7778455284552844 valid loss 1.066676866549712 valid Acc 0.7178846153846153\n",
      "Epoch 4 train loss : 1.2922018046786146 train Acc : 0.8095528455284552 valid loss 1.0212522538808675 valid Acc 0.729375\n",
      "Epoch 5 train loss : 1.188801194400322 train Acc : 0.8250508130081302 valid loss 0.9240279495716095 valid Acc 0.7523557692307693\n"
     ]
    }
   ],
   "source": [
    "train_loesse , train_accuracies , validation_losses , validation_accuracuies= train(model ,dataloaders , valid_loader ,loss_fn , optimizer ,5  )"
   ]
  },
  {
   "cell_type": "markdown",
   "metadata": {},
   "source": [
    "## Testing your network\n",
    "\n",
    "It's good practice to test your trained network on test data, images the network has never seen either in training or validation. This will give you a good estimate for the model's performance on completely new images. Run the test images through the network and measure the accuracy, the same way you did validation. You should be able to reach around 70% accuracy on the test set if the model has been trained well."
   ]
  },
  {
   "cell_type": "code",
   "execution_count": 22,
   "metadata": {},
   "outputs": [],
   "source": [
    "# TODO: Do validation on the test set\n",
    "test_transform =  torchvision.transforms.Compose([\n",
    "                                                 \n",
    "                                                  torchvision.transforms.RandomResizedCrop(224),\n",
    "                                                  torchvision.transforms.Resize(sized_image),\n",
    "                                                  torchvision.transforms.ToTensor(),\n",
    "                                                  torchvision.transforms.Normalize(mean=[0.485, 0.456, 0.406],\n",
    "                                                                                 std =[0.229, 0.224, 0.225]),\n",
    "                                                    ])\n",
    "test_data = torchvision.datasets.ImageFolder(train_dir, transform=test_transform)\n",
    "testloader = torch.utils.data.DataLoader(test_data , batch_size=32)\n",
    "all_acc =[]\n",
    "\n",
    "for x, y in testloader:\n",
    "    acc = accuracy(model , x.float().to(device), y.to(device))\n",
    "    all_acc.append(acc)\n",
    "    "
   ]
  },
  {
   "cell_type": "code",
   "execution_count": 29,
   "metadata": {},
   "outputs": [
    {
     "name": "stdout",
     "output_type": "stream",
     "text": [
      "Test Acc 79.65 %\n"
     ]
    }
   ],
   "source": [
    "print(f\"Test Acc {np.array(all_acc).mean()*100:0.2f} %\")"
   ]
  },
  {
   "cell_type": "markdown",
   "metadata": {},
   "source": [
    "## Save the checkpoint\n",
    "\n",
    "Now that your network is trained, save the model so you can load it later for making predictions. You probably want to save other things such as the mapping of classes to indices which you get from one of the image datasets: `image_datasets['train'].class_to_idx`. You can attach this to the model as an attribute which makes inference easier later on.\n",
    "\n",
    "```model.class_to_idx = image_datasets['train'].class_to_idx```\n",
    "\n",
    "Remember that you'll want to completely rebuild the model later so you can use it for inference. Make sure to include any information you need in the checkpoint. If you want to load the model and keep training, you'll want to save the number of epochs as well as the optimizer state, `optimizer.state_dict`. You'll likely want to use this trained model in the next part of the project, so best to save it now."
   ]
  },
  {
   "cell_type": "code",
   "execution_count": 16,
   "metadata": {
    "scrolled": true
   },
   "outputs": [
    {
     "data": {
      "text/plain": [
       "{'1': 0,\n",
       " '10': 1,\n",
       " '100': 2,\n",
       " '101': 3,\n",
       " '102': 4,\n",
       " '11': 5,\n",
       " '12': 6,\n",
       " '13': 7,\n",
       " '14': 8,\n",
       " '15': 9,\n",
       " '16': 10,\n",
       " '17': 11,\n",
       " '18': 12,\n",
       " '19': 13,\n",
       " '2': 14,\n",
       " '20': 15,\n",
       " '21': 16,\n",
       " '22': 17,\n",
       " '23': 18,\n",
       " '24': 19,\n",
       " '25': 20,\n",
       " '26': 21,\n",
       " '27': 22,\n",
       " '28': 23,\n",
       " '29': 24,\n",
       " '3': 25,\n",
       " '30': 26,\n",
       " '31': 27,\n",
       " '32': 28,\n",
       " '33': 29,\n",
       " '34': 30,\n",
       " '35': 31,\n",
       " '36': 32,\n",
       " '37': 33,\n",
       " '38': 34,\n",
       " '39': 35,\n",
       " '4': 36,\n",
       " '40': 37,\n",
       " '41': 38,\n",
       " '42': 39,\n",
       " '43': 40,\n",
       " '44': 41,\n",
       " '45': 42,\n",
       " '46': 43,\n",
       " '47': 44,\n",
       " '48': 45,\n",
       " '49': 46,\n",
       " '5': 47,\n",
       " '50': 48,\n",
       " '51': 49,\n",
       " '52': 50,\n",
       " '53': 51,\n",
       " '54': 52,\n",
       " '55': 53,\n",
       " '56': 54,\n",
       " '57': 55,\n",
       " '58': 56,\n",
       " '59': 57,\n",
       " '6': 58,\n",
       " '60': 59,\n",
       " '61': 60,\n",
       " '62': 61,\n",
       " '63': 62,\n",
       " '64': 63,\n",
       " '65': 64,\n",
       " '66': 65,\n",
       " '67': 66,\n",
       " '68': 67,\n",
       " '69': 68,\n",
       " '7': 69,\n",
       " '70': 70,\n",
       " '71': 71,\n",
       " '72': 72,\n",
       " '73': 73,\n",
       " '74': 74,\n",
       " '75': 75,\n",
       " '76': 76,\n",
       " '77': 77,\n",
       " '78': 78,\n",
       " '79': 79,\n",
       " '8': 80,\n",
       " '80': 81,\n",
       " '81': 82,\n",
       " '82': 83,\n",
       " '83': 84,\n",
       " '84': 85,\n",
       " '85': 86,\n",
       " '86': 87,\n",
       " '87': 88,\n",
       " '88': 89,\n",
       " '89': 90,\n",
       " '9': 91,\n",
       " '90': 92,\n",
       " '91': 93,\n",
       " '92': 94,\n",
       " '93': 95,\n",
       " '94': 96,\n",
       " '95': 97,\n",
       " '96': 98,\n",
       " '97': 99,\n",
       " '98': 100,\n",
       " '99': 101}"
      ]
     },
     "execution_count": 16,
     "metadata": {},
     "output_type": "execute_result"
    }
   ],
   "source": [
    " image_datasets.class_to_idx"
   ]
  },
  {
   "cell_type": "code",
   "execution_count": 30,
   "metadata": {},
   "outputs": [],
   "source": [
    "# TODO: Save the checkpoint \n",
    "checkpoint = {\n",
    "    'epochs': 5,\n",
    "    'learning_rate': 0.0025,\n",
    "    'model_state_dict': model.state_dict(),\n",
    "    'optimizer_state_dict': optimizer.state_dict(),\n",
    "    'criterion_state_dict': loss_fn.state_dict(),\n",
    "    'class_to_idx': image_datasets.class_to_idx\n",
    "}\n",
    "\n",
    "torch.save(checkpoint, 'checkpoint.pth')\n",
    "import pickle\n",
    "pickle.dump(model , open(\"model_arc.pkl\", mode=\"wb\"))"
   ]
  },
  {
   "cell_type": "code",
   "execution_count": null,
   "metadata": {},
   "outputs": [],
   "source": []
  },
  {
   "cell_type": "markdown",
   "metadata": {},
   "source": [
    "## Loading the checkpoint\n",
    "\n",
    "At this point it's good to write a function that can load a checkpoint and rebuild the model. That way you can come back to this project and keep working on it without having to retrain the network."
   ]
  },
  {
   "cell_type": "code",
   "execution_count": 31,
   "metadata": {},
   "outputs": [
    {
     "data": {
      "text/plain": [
       "VGG(\n",
       "  (features): Sequential(\n",
       "    (0): Conv2d(3, 64, kernel_size=(3, 3), stride=(1, 1), padding=(1, 1))\n",
       "    (1): ReLU(inplace=True)\n",
       "    (2): Conv2d(64, 64, kernel_size=(3, 3), stride=(1, 1), padding=(1, 1))\n",
       "    (3): ReLU(inplace=True)\n",
       "    (4): MaxPool2d(kernel_size=2, stride=2, padding=0, dilation=1, ceil_mode=False)\n",
       "    (5): Conv2d(64, 128, kernel_size=(3, 3), stride=(1, 1), padding=(1, 1))\n",
       "    (6): ReLU(inplace=True)\n",
       "    (7): Conv2d(128, 128, kernel_size=(3, 3), stride=(1, 1), padding=(1, 1))\n",
       "    (8): ReLU(inplace=True)\n",
       "    (9): MaxPool2d(kernel_size=2, stride=2, padding=0, dilation=1, ceil_mode=False)\n",
       "    (10): Conv2d(128, 256, kernel_size=(3, 3), stride=(1, 1), padding=(1, 1))\n",
       "    (11): ReLU(inplace=True)\n",
       "    (12): Conv2d(256, 256, kernel_size=(3, 3), stride=(1, 1), padding=(1, 1))\n",
       "    (13): ReLU(inplace=True)\n",
       "    (14): Conv2d(256, 256, kernel_size=(3, 3), stride=(1, 1), padding=(1, 1))\n",
       "    (15): ReLU(inplace=True)\n",
       "    (16): MaxPool2d(kernel_size=2, stride=2, padding=0, dilation=1, ceil_mode=False)\n",
       "    (17): Conv2d(256, 512, kernel_size=(3, 3), stride=(1, 1), padding=(1, 1))\n",
       "    (18): ReLU(inplace=True)\n",
       "    (19): Conv2d(512, 512, kernel_size=(3, 3), stride=(1, 1), padding=(1, 1))\n",
       "    (20): ReLU(inplace=True)\n",
       "    (21): Conv2d(512, 512, kernel_size=(3, 3), stride=(1, 1), padding=(1, 1))\n",
       "    (22): ReLU(inplace=True)\n",
       "    (23): MaxPool2d(kernel_size=2, stride=2, padding=0, dilation=1, ceil_mode=False)\n",
       "    (24): Conv2d(512, 512, kernel_size=(3, 3), stride=(1, 1), padding=(1, 1))\n",
       "    (25): ReLU(inplace=True)\n",
       "    (26): Conv2d(512, 512, kernel_size=(3, 3), stride=(1, 1), padding=(1, 1))\n",
       "    (27): ReLU(inplace=True)\n",
       "    (28): Conv2d(512, 512, kernel_size=(3, 3), stride=(1, 1), padding=(1, 1))\n",
       "    (29): ReLU(inplace=True)\n",
       "    (30): MaxPool2d(kernel_size=2, stride=2, padding=0, dilation=1, ceil_mode=False)\n",
       "  )\n",
       "  (classifier): Sequential(\n",
       "    (0): Flatten(start_dim=1, end_dim=-1)\n",
       "    (1): Linear(in_features=25088, out_features=512, bias=True)\n",
       "    (2): ReLU()\n",
       "    (3): Dropout(p=0.2, inplace=False)\n",
       "    (4): Linear(in_features=512, out_features=128, bias=True)\n",
       "    (5): ReLU()\n",
       "    (6): Dropout(p=0.2, inplace=False)\n",
       "    (7): Linear(in_features=128, out_features=102, bias=True)\n",
       "  )\n",
       "  (avgpool): AdaptiveAvgPool2d(output_size=(1, 1))\n",
       ")"
      ]
     },
     "execution_count": 31,
     "metadata": {},
     "output_type": "execute_result"
    }
   ],
   "source": [
    "# TODO: Write a function that loads a checkpoint and rebuilds the model\n",
    "def load_model(model_arc , model_pth):\n",
    "    model = pickle.load(open(model_arc , mode=\"rb\"))\n",
    "    checkpoint = torch.load(model_pth)\n",
    "    model.load_state_dict(checkpoint['model_state_dict'])\n",
    "    return model\n",
    "my_model = load_model(\"model_arc.pkl\", \"checkpoint.pth\")\n",
    "my_model"
   ]
  },
  {
   "cell_type": "markdown",
   "metadata": {},
   "source": [
    "# Inference for classification\n",
    "\n",
    "Now you'll write a function to use a trained network for inference. That is, you'll pass an image into the network and predict the class of the flower in the image. Write a function called `predict` that takes an image and a model, then returns the top $K$ most likely classes along with the probabilities. It should look like \n",
    "\n",
    "```python\n",
    "probs, classes = predict(image_path, model)\n",
    "print(probs)\n",
    "print(classes)\n",
    "> [ 0.01558163  0.01541934  0.01452626  0.01443549  0.01407339]\n",
    "> ['70', '3', '45', '62', '55']\n",
    "```\n",
    "\n",
    "First you'll need to handle processing the input image such that it can be used in your network. \n",
    "\n",
    "## Image Preprocessing\n",
    "\n",
    "You'll want to use `PIL` to load the image ([documentation](https://pillow.readthedocs.io/en/latest/reference/Image.html)). It's best to write a function that preprocesses the image so it can be used as input for the model. This function should process the images in the same manner used for training. \n",
    "\n",
    "First, resize the images where the shortest side is 256 pixels, keeping the aspect ratio. This can be done with the [`thumbnail`](http://pillow.readthedocs.io/en/3.1.x/reference/Image.html#PIL.Image.Image.thumbnail) or [`resize`](http://pillow.readthedocs.io/en/3.1.x/reference/Image.html#PIL.Image.Image.thumbnail) methods. Then you'll need to crop out the center 224x224 portion of the image.\n",
    "\n",
    "Color channels of images are typically encoded as integers 0-255, but the model expected floats 0-1. You'll need to convert the values. It's easiest with a Numpy array, which you can get from a PIL image like so `np_image = np.array(pil_image)`.\n",
    "\n",
    "As before, the network expects the images to be normalized in a specific way. For the means, it's `[0.485, 0.456, 0.406]` and for the standard deviations `[0.229, 0.224, 0.225]`. You'll want to subtract the means from each color channel, then divide by the standard deviation. \n",
    "\n",
    "And finally, PyTorch expects the color channel to be the first dimension but it's the third dimension in the PIL image and Numpy array. You can reorder dimensions using [`ndarray.transpose`](https://docs.scipy.org/doc/numpy-1.13.0/reference/generated/numpy.ndarray.transpose.html). The color channel needs to be first and retain the order of the other two dimensions."
   ]
  },
  {
   "cell_type": "code",
   "execution_count": 50,
   "metadata": {},
   "outputs": [],
   "source": [
    "from PIL import Image\n",
    "def process_image(image):\n",
    "    ''' Scales, crops, and normalizes a PIL image for a PyTorch model,\n",
    "        returns an Numpy array\n",
    "    '''\n",
    "    # TODO: Process a PIL image for use in a PyTorch model\n",
    "    image = Image.open(image)\n",
    "    image = test_transform(image)\n",
    "   \n",
    "    return image\n",
    "    \n"
   ]
  },
  {
   "cell_type": "markdown",
   "metadata": {},
   "source": [
    "To check your work, the function below converts a PyTorch tensor and displays it in the notebook. If your `process_image` function works, running the output through this function should return the original image (except for the cropped out portions)."
   ]
  },
  {
   "cell_type": "code",
   "execution_count": 48,
   "metadata": {},
   "outputs": [],
   "source": [
    "def imshow(image, ax=None, title=None):\n",
    "    \"\"\"Imshow for Tensor.\"\"\"\n",
    "    if ax is None:\n",
    "        fig, ax = plt.subplots()\n",
    "    \n",
    "    # PyTorch tensors assume the color channel is the first dimension\n",
    "    # but matplotlib assumes is the third dimension\n",
    "    image = image.numpy().transpose((1, 2, 0))\n",
    "    \n",
    "    # Undo preprocessing\n",
    "    mean = np.array([0.485, 0.456, 0.406])\n",
    "    std = np.array([0.229, 0.224, 0.225])\n",
    "    image = std * image + mean\n",
    "    \n",
    "    # Image needs to be clipped between 0 and 1 or it looks like noise when displayed\n",
    "    image = np.clip(image, 0, 1)\n",
    "    \n",
    "    ax.imshow(image)\n",
    "    \n",
    "    return ax"
   ]
  },
  {
   "cell_type": "markdown",
   "metadata": {},
   "source": [
    "## Class Prediction\n",
    "\n",
    "Once you can get images in the correct format, it's time to write a function for making predictions with your model. A common practice is to predict the top 5 or so (usually called top-$K$) most probable classes. You'll want to calculate the class probabilities then find the $K$ largest values.\n",
    "\n",
    "To get the top $K$ largest values in a tensor use [`x.topk(k)`](http://pytorch.org/docs/master/torch.html#torch.topk). This method returns both the highest `k` probabilities and the indices of those probabilities corresponding to the classes. You need to convert from these indices to the actual class labels using `class_to_idx` which hopefully you added to the model or from an `ImageFolder` you used to load the data ([see here](#Save-the-checkpoint)). Make sure to invert the dictionary so you get a mapping from index to class as well.\n",
    "\n",
    "Again, this method should take a path to an image and a model checkpoint, then return the probabilities and classes.\n",
    "\n",
    "```python\n",
    "probs, classes = predict(image_path, model)\n",
    "print(probs)\n",
    "print(classes)\n",
    "> [ 0.01558163  0.01541934  0.01452626  0.01443549  0.01407339]\n",
    "> ['70', '3', '45', '62', '55']\n",
    "```"
   ]
  },
  {
   "cell_type": "code",
   "execution_count": 70,
   "metadata": {
    "scrolled": true
   },
   "outputs": [
    {
     "data": {
      "text/plain": [
       "{'1': 0,\n",
       " '10': 1,\n",
       " '100': 2,\n",
       " '101': 3,\n",
       " '102': 4,\n",
       " '11': 5,\n",
       " '12': 6,\n",
       " '13': 7,\n",
       " '14': 8,\n",
       " '15': 9,\n",
       " '16': 10,\n",
       " '17': 11,\n",
       " '18': 12,\n",
       " '19': 13,\n",
       " '2': 14,\n",
       " '20': 15,\n",
       " '21': 16,\n",
       " '22': 17,\n",
       " '23': 18,\n",
       " '24': 19,\n",
       " '25': 20,\n",
       " '26': 21,\n",
       " '27': 22,\n",
       " '28': 23,\n",
       " '29': 24,\n",
       " '3': 25,\n",
       " '30': 26,\n",
       " '31': 27,\n",
       " '32': 28,\n",
       " '33': 29,\n",
       " '34': 30,\n",
       " '35': 31,\n",
       " '36': 32,\n",
       " '37': 33,\n",
       " '38': 34,\n",
       " '39': 35,\n",
       " '4': 36,\n",
       " '40': 37,\n",
       " '41': 38,\n",
       " '42': 39,\n",
       " '43': 40,\n",
       " '44': 41,\n",
       " '45': 42,\n",
       " '46': 43,\n",
       " '47': 44,\n",
       " '48': 45,\n",
       " '49': 46,\n",
       " '5': 47,\n",
       " '50': 48,\n",
       " '51': 49,\n",
       " '52': 50,\n",
       " '53': 51,\n",
       " '54': 52,\n",
       " '55': 53,\n",
       " '56': 54,\n",
       " '57': 55,\n",
       " '58': 56,\n",
       " '59': 57,\n",
       " '6': 58,\n",
       " '60': 59,\n",
       " '61': 60,\n",
       " '62': 61,\n",
       " '63': 62,\n",
       " '64': 63,\n",
       " '65': 64,\n",
       " '66': 65,\n",
       " '67': 66,\n",
       " '68': 67,\n",
       " '69': 68,\n",
       " '7': 69,\n",
       " '70': 70,\n",
       " '71': 71,\n",
       " '72': 72,\n",
       " '73': 73,\n",
       " '74': 74,\n",
       " '75': 75,\n",
       " '76': 76,\n",
       " '77': 77,\n",
       " '78': 78,\n",
       " '79': 79,\n",
       " '8': 80,\n",
       " '80': 81,\n",
       " '81': 82,\n",
       " '82': 83,\n",
       " '83': 84,\n",
       " '84': 85,\n",
       " '85': 86,\n",
       " '86': 87,\n",
       " '87': 88,\n",
       " '88': 89,\n",
       " '89': 90,\n",
       " '9': 91,\n",
       " '90': 92,\n",
       " '91': 93,\n",
       " '92': 94,\n",
       " '93': 95,\n",
       " '94': 96,\n",
       " '95': 97,\n",
       " '96': 98,\n",
       " '97': 99,\n",
       " '98': 100,\n",
       " '99': 101}"
      ]
     },
     "execution_count": 70,
     "metadata": {},
     "output_type": "execute_result"
    }
   ],
   "source": [
    " image_datasets.class_to_idx"
   ]
  },
  {
   "cell_type": "code",
   "execution_count": 122,
   "metadata": {},
   "outputs": [],
   "source": [
    "def predict(image_path, model, topk=5):\n",
    "    ''' Predict the class (or classes) of an image using a trained deep learning model.\n",
    "    '''\n",
    "    # TODO: Implement the code to predict the class from an image file\n",
    "    image = process_image(image_path)\n",
    "    model.eval()\n",
    "    prediction = model(image.unsqueeze(0).float().to(device))\n",
    "    value , indices = prediction.topk(topk)\n",
    "    data_indices =  image_datasets.class_to_idx\n",
    "    labels =[]\n",
    "    for indx in indices.cpu().numpy()[0]:\n",
    "        for i , j in data_indices.items():\n",
    "            if j==indx:\n",
    "                labels.append(cat_to_name.get(i))\n",
    "    return labels , value\n"
   ]
  },
  {
   "cell_type": "code",
   "execution_count": null,
   "metadata": {},
   "outputs": [],
   "source": []
  },
  {
   "cell_type": "code",
   "execution_count": null,
   "metadata": {},
   "outputs": [],
   "source": []
  },
  {
   "cell_type": "markdown",
   "metadata": {},
   "source": [
    "## Sanity Checking\n",
    "\n",
    "Now that you can use a trained model for predictions, check to make sure it makes sense. Even if the testing accuracy is high, it's always good to check that there aren't obvious bugs. Use `matplotlib` to plot the probabilities for the top 5 classes as a bar graph, along with the input image. It should look like this:\n",
    "\n",
    "<img src='assets/inference_example.png' width=300px>\n",
    "\n",
    "You can convert from the class integer encoding to actual flower names with the `cat_to_name.json` file (should have been loaded earlier in the notebook). To show a PyTorch tensor as an image, use the `imshow` function defined above."
   ]
  },
  {
   "cell_type": "code",
   "execution_count": 129,
   "metadata": {},
   "outputs": [],
   "source": [
    "import seaborn as sns"
   ]
  },
  {
   "cell_type": "code",
   "execution_count": 123,
   "metadata": {},
   "outputs": [
    {
     "data": {
      "text/plain": [
       "(['pink primrose', 'hibiscus', 'petunia', 'tree mallow', 'hippeastrum'],\n",
       " tensor([[6.9107, 5.8203, 4.5985, 2.8350, 1.9537]], device='cuda:0',\n",
       "        grad_fn=<TopkBackward0>))"
      ]
     },
     "execution_count": 123,
     "metadata": {},
     "output_type": "execute_result"
    }
   ],
   "source": [
    "# TODO: Display an image along with the top 5 classes\n",
    "predict(\"flowers/test/1/image_06743.jpg\" , model)"
   ]
  },
  {
   "cell_type": "code",
   "execution_count": null,
   "metadata": {},
   "outputs": [],
   "source": [
    "import pandas as pd"
   ]
  },
  {
   "cell_type": "code",
   "execution_count": 132,
   "metadata": {},
   "outputs": [
    {
     "data": {
      "text/plain": [
       "<matplotlib.axes._subplots.AxesSubplot at 0x7f541aced198>"
      ]
     },
     "execution_count": 132,
     "metadata": {},
     "output_type": "execute_result"
    },
    {
     "data": {
      "image/png": "[encoded data removed]",
      "text/plain": [
       "<matplotlib.figure.Figure at 0x7f53f78c4c88>"
      ]
     },
     "metadata": {
      "needs_background": "light"
     },
     "output_type": "display_data"
    }
   ],
   "source": [
    "test_iamge = \"flowers/test/1/image_06743.jpg\"\n",
    "fig , axes = plt.subplots(2 ,1 , figsize=(20,10))\n",
    "imshow(process_image(test_iamge) , axes[0])\n",
    "x , y = predict(test_iamge , model)\n",
    "y = y.cpu().detach().numpy()\n",
    "sns.barplot( y.ravel() , x, ax=axes[1])"
   ]
  },
  {
   "cell_type": "code",
   "execution_count": null,
   "metadata": {},
   "outputs": [],
   "source": []
  },
  {
   "cell_type": "markdown",
   "metadata": {},
   "source": [
    "<font color='red'>**Reminder for Workspace users:** If your network becomes very large when saved as a checkpoint, there might be issues with saving backups in your workspace. You should reduce the size of your hidden layers and train again. \n",
    "    \n",
    "We strongly encourage you to delete these large interim files and directories before navigating to another page or closing the browser tab.</font>"
   ]
  },
  {
   "cell_type": "code",
   "execution_count": 2,
   "metadata": {},
   "outputs": [],
   "source": [
    "# TODO remove .pth files or move it to a temporary `~/opt` directory in this Workspace"
   ]
  },
  {
   "cell_type": "code",
   "execution_count": null,
   "metadata": {},
   "outputs": [],
   "source": []
  }
 ],
 "metadata": {
  "kernelspec": {
   "display_name": "Python 3",
   "language": "python",
   "name": "python3"
  },
  "language_info": {
   "codemirror_mode": {
    "name": "ipython",
    "version": 3
   },
   "file_extension": ".py",
   "mimetype": "text/x-python",
   "name": "python",
   "nbconvert_exporter": "python",
   "pygments_lexer": "ipython3",
   "version": "3.6.3"
  }
 },
 "nbformat": 4,
 "nbformat_minor": 2
}
